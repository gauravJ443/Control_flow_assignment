{
 "cells": [
  {
   "cell_type": "markdown",
   "id": "559b15a6",
   "metadata": {},
   "source": [
    "#### Basic If-else statement ####"
   ]
  },
  {
   "cell_type": "code",
   "execution_count": 4,
   "id": "190dcdec",
   "metadata": {},
   "outputs": [
    {
     "name": "stdout",
     "output_type": "stream",
     "text": [
      "Enter a number to check: -2\n",
      "the given number is negative\n"
     ]
    }
   ],
   "source": [
    "#Write a Python program to check if a given number is positive or negative\n",
    "num = float(input(\"Enter a number to check: \"))\n",
    "#check if the number is greater than zero\n",
    "if num > 0:\n",
    "    print(\"The number is positive\")\n",
    "elif num == 0:\n",
    "    print(\"It is Zero\")\n",
    "    \n",
    "else:\n",
    "    print(\"the given number is negative\")"
   ]
  },
  {
   "cell_type": "code",
   "execution_count": 11,
   "id": "3459684d",
   "metadata": {},
   "outputs": [
    {
     "name": "stdout",
     "output_type": "stream",
     "text": [
      "not Eligible to vote\n"
     ]
    }
   ],
   "source": [
    "# Create a program that determines if a person is eligible to vote based on their age.\n",
    "from datetime import date\n",
    "def calculateAge(birthDate):\n",
    "    today = date.today()\n",
    "    age= today.year - birthDate.year -((today.month,today.day)\n",
    "                                      < (birthDate.month,birthDate.day))\n",
    "    return age\n",
    "\n",
    "x=(calculateAge(date(2008,2,10)))\n",
    "#x\n",
    "\n",
    "if x > 18:\n",
    "    print(\"You are Eligible to vote\")\n",
    "else:\n",
    "    print(\"Not Eligible to vote\")\n",
    "        "
   ]
  },
  {
   "cell_type": "code",
   "execution_count": 1,
   "id": "a1c4f007",
   "metadata": {},
   "outputs": [
    {
     "name": "stdout",
     "output_type": "stream",
     "text": [
      "Enter Your Age: 20\n",
      "You are Eligible to vote\n"
     ]
    }
   ],
   "source": [
    "# Create a program that determines if a person is eligible to vote based on their age.\n",
    "age = int(input(\"Enter Your Age: \"))\n",
    "\n",
    "if age > 18:\n",
    "    print(\"You are Eligible to vote\")\n",
    "else:\n",
    "    print(\"You are not Eligible to vote\")"
   ]
  },
  {
   "cell_type": "code",
   "execution_count": 16,
   "id": "eb30ec30",
   "metadata": {},
   "outputs": [
    {
     "name": "stdout",
     "output_type": "stream",
     "text": [
      "Enter the first number: 50\n",
      "Enter the Second number: 12\n",
      "First number '50' is the maximum\n"
     ]
    }
   ],
   "source": [
    "#Develop a program to find the maximum of two numbers using if-else statements.\n",
    "a = int(input(\"Enter the first number: \"))\n",
    "b = int(input(\"Enter the Second number: \"))\n",
    "if a>b:\n",
    "    print(f\"First number '{a}' is the maximum\")\n",
    "else:\n",
    "    print(f\"Second number '{b}' is the maximum\")"
   ]
  },
  {
   "cell_type": "code",
   "execution_count": 19,
   "id": "05d9a2a1",
   "metadata": {},
   "outputs": [
    {
     "name": "stdout",
     "output_type": "stream",
     "text": [
      "Enter a year: 2035\n",
      "It is not a leap year\n"
     ]
    }
   ],
   "source": [
    "#write a Python script to classify a given year as a leap year or not.\n",
    "year = int(input(\"Enter a year: \"))\n",
    "if (year%4==0 or year%100==0 or year%400==0):\n",
    "    print(\"The Year is Leap Year\")\n",
    "    \n",
    "else:\n",
    "    print(\"It is not a leap year\")"
   ]
  },
  {
   "cell_type": "code",
   "execution_count": 28,
   "id": "8b204bf2",
   "metadata": {},
   "outputs": [
    {
     "name": "stdout",
     "output_type": "stream",
     "text": [
      "Enter the charcter to check out the vowel: azx\n",
      "Character is not present in name\n"
     ]
    }
   ],
   "source": [
    "#Create a program that checks whether a character is a vowel or a consonant\n",
    "name = str(input(\"Enter the charcter to check out the vowel: \"))\n",
    "char1= 'aeiouAEIOU'\n",
    "\n",
    "if name in char1:\n",
    "    print(\"character is present in name\")   \n",
    "else:\n",
    "    print(\"Character is not present in name\")\n",
    "    "
   ]
  },
  {
   "cell_type": "code",
   "execution_count": 29,
   "id": "9d54816f",
   "metadata": {},
   "outputs": [
    {
     "name": "stdout",
     "output_type": "stream",
     "text": [
      "Enter a number: 30\n",
      "The given nuber is even\n"
     ]
    }
   ],
   "source": [
    "#Implement a program to determine whether a given number is even or odd.\n",
    "n= int(input('Enter a number: '))\n",
    "if n%2== 0 :\n",
    "    print(\"The given nuber is even\")\n",
    "else:\n",
    "    print(\"The given num is odd\")"
   ]
  },
  {
   "cell_type": "code",
   "execution_count": 3,
   "id": "1f4fc988",
   "metadata": {},
   "outputs": [
    {
     "name": "stdout",
     "output_type": "stream",
     "text": [
      "12\n"
     ]
    }
   ],
   "source": [
    "# Write a Python function to calculate the absolute value of a number without using the `abs()` function.\n",
    "def findAbsolute(N): \n",
    "  \n",
    "    # If the number is less than \n",
    "    # zero, then multiply by (-1) \n",
    "    if (N < 0): \n",
    "        N = (-1) * N; \n",
    "      \n",
    "    # Print the absolute value \n",
    "    print(N); \n",
    "\n",
    "#Given Integer    \n",
    "N = 12; \n",
    "\n",
    "# Function call \n",
    "findAbsolute(N); "
   ]
  },
  {
   "cell_type": "code",
   "execution_count": 7,
   "id": "bf033b54",
   "metadata": {},
   "outputs": [
    {
     "name": "stdout",
     "output_type": "stream",
     "text": [
      "40\n"
     ]
    }
   ],
   "source": [
    "# Develop a program that determines the largest of three given numbers using if-else statements\n",
    "n1,n2,n3 = 40,25,35\n",
    "if n1>n2:\n",
    "    print(f\"{n1}\")  \n",
    "elif n2>n3:\n",
    "    print(f\"{n2}\")\n",
    "else:\n",
    "    print(f\"{n3}\")"
   ]
  },
  {
   "cell_type": "code",
   "execution_count": 1,
   "id": "0d59eb9e",
   "metadata": {},
   "outputs": [
    {
     "name": "stdout",
     "output_type": "stream",
     "text": [
      "no\n"
     ]
    }
   ],
   "source": [
    "#Create a program that checks if a given string is a palindrome.\n",
    "def ispalindrome(s):\n",
    "    return s == s[::-1]\n",
    "\n",
    "s= \"ola\"\n",
    "ans= ispalindrome(s)\n",
    "\n",
    "if ans:\n",
    "    print('yes')\n",
    "else:\n",
    "    print('no')"
   ]
  },
  {
   "cell_type": "code",
   "execution_count": 7,
   "id": "06b7e134",
   "metadata": {},
   "outputs": [
    {
     "name": "stdout",
     "output_type": "stream",
     "text": [
      "Enter the marks to provide grade: 78\n",
      "Student got B Grade\n"
     ]
    }
   ],
   "source": [
    "#Write a Python program to calculate the grade based on a student's score.\n",
    "marks = (int(input(\"Enter the marks to provide grade: \")))\n",
    "if marks >= 80:\n",
    "    print(\"Student got A Grade\")\n",
    "elif marks <80 and marks >=70:\n",
    "    print(\"Student got B Grade\")\n",
    "else:\n",
    "    print(\"Student Got C Grade\")"
   ]
  },
  {
   "cell_type": "markdown",
   "id": "23a958b1",
   "metadata": {},
   "source": [
    "## Nested If-Else satement##"
   ]
  },
  {
   "cell_type": "code",
   "execution_count": 1,
   "id": "0eab107b",
   "metadata": {},
   "outputs": [
    {
     "name": "stdout",
     "output_type": "stream",
     "text": [
      "30\n"
     ]
    }
   ],
   "source": [
    "# Write a program to find the largest among three numbers using nested if-else statements.\n",
    "num1, num2, num3 = 10 , 30 , 20\n",
    "max = 0\n",
    "if num1 >= num2 and num1 >= num3:\n",
    "  print(num1)\n",
    "elif num2 >= num1 and num2 >= num3:\n",
    "  print(num2)\n",
    "else:\n",
    "  print(num3)"
   ]
  },
  {
   "cell_type": "code",
   "execution_count": 3,
   "id": "6d14014b",
   "metadata": {},
   "outputs": [
    {
     "name": "stdout",
     "output_type": "stream",
     "text": [
      "Isosceles Triangle\n"
     ]
    }
   ],
   "source": [
    "#Implement a program to determine if a triangle is equilateral, isosceles, or scalene.\n",
    "def triangle(x,y,z):\n",
    "    if x==y==z:\n",
    "        print(\"Equilateral Trianlge\")\n",
    "    elif x==y or y==z or z==x:\n",
    "        print(\"Isosceles Triangle\")\n",
    "        \n",
    "    else:\n",
    "        print(\"scalene Triangle\")\n",
    "        \n",
    "x = 8\n",
    "y = 9\n",
    "z = 8\n",
    "triangle(x,y,z)"
   ]
  },
  {
   "cell_type": "code",
   "execution_count": 4,
   "id": "ae27f71b",
   "metadata": {},
   "outputs": [
    {
     "name": "stdout",
     "output_type": "stream",
     "text": [
      "Enter a year: 2025\n",
      "It is not a leap year\n"
     ]
    }
   ],
   "source": [
    "#develop a program that checks if a year is a leap year and also if it is a century year\n",
    "year = int(input(\"Enter a year: \"))\n",
    "if (year%4==0 or year%100==0 or year%400==0):\n",
    "    print(\"The Year is Leap Year\")\n",
    "    \n",
    "else:\n",
    "    print(\"It is not a leap year\")"
   ]
  },
  {
   "cell_type": "code",
   "execution_count": 6,
   "id": "0fb7f806",
   "metadata": {},
   "outputs": [
    {
     "name": "stdout",
     "output_type": "stream",
     "text": [
      "Enter a number to identify: -25\n",
      "The number is negative\n"
     ]
    }
   ],
   "source": [
    "#Write a Python script to determine if a number is positive, negative, or zero.\n",
    "give_input = int(input(\"Enter a number to identify: \"))\n",
    "if give_input > 0 :\n",
    "    print(\"The number is positive\")\n",
    "elif give_input == 0 :\n",
    "    print(\"The number is zero\")\n",
    "else:\n",
    "    print(\"The number is negative\")"
   ]
  },
  {
   "cell_type": "code",
   "execution_count": 7,
   "id": "777020ca",
   "metadata": {},
   "outputs": [
    {
     "name": "stdout",
     "output_type": "stream",
     "text": [
      "You are teenager\n"
     ]
    }
   ],
   "source": [
    "#Create a program to check if a person is a teenager (between 13 and 19 years old).\n",
    "from datetime import date\n",
    "def calculateAge(birthDate):\n",
    "    today = date.today()\n",
    "    age= today.year - birthDate.year -((today.month,today.day)\n",
    "                                      < (birthDate.month,birthDate.day))\n",
    "    return age\n",
    "\n",
    "x=(calculateAge(date(2008,2,10)))\n",
    "#x\n",
    "\n",
    "if x <= 19 and x >= 13:\n",
    "    print(\"You are teenager\")\n",
    "else:\n",
    "    print(\"Not a teenager\")\n",
    "        "
   ]
  },
  {
   "cell_type": "code",
   "execution_count": 5,
   "id": "6a5670dc",
   "metadata": {},
   "outputs": [
    {
     "name": "stdout",
     "output_type": "stream",
     "text": [
      "Enter the value of angle1: 100\n",
      "Enter the value of angle2: 10\n",
      "Enter the value of angle3: 10\n",
      "The angle is acute angle Triangle\n"
     ]
    }
   ],
   "source": [
    "#Develop a program that determines the type of angle based on its measure (acute, obtuse, or right)\n",
    "ang1 = int(input(\"Enter the value of angle1: \"))\n",
    "ang2 = int(input(\"Enter the value of angle2: \"))\n",
    "ang3 = int(input(\"Enter the value of angle3: \"))\n",
    "\n",
    "if ang1 == ang2+ang3 or ang2 == ang1+ang3 or ang3 == ang2+ang1:\n",
    "    print(\"The angle is Right angle Triangle\")\n",
    "    \n",
    "elif ang1 > ang3+ang2 or ang2 > ang3+ang1 or ang3 > ang1+ang2:\n",
    "    print(\"The angle is acute angle Triangle\")\n",
    "    \n",
    "else:\n",
    "    print(\"it is obtuse angle\")"
   ]
  },
  {
   "cell_type": "code",
   "execution_count": 7,
   "id": "84b0ad10",
   "metadata": {},
   "outputs": [
    {
     "name": "stdout",
     "output_type": "stream",
     "text": [
      "Roots are real and same\n",
      "-2.0\n"
     ]
    }
   ],
   "source": [
    "# write a Python program to calculate the roots of a quadratic equation.\n",
    "import math \n",
    "def findroots(a,b,c):\n",
    "    if a == 0:\n",
    "        print(\"Invalid\")\n",
    "        return -1\n",
    "    d = b*b - 4*a*c\n",
    "    sqrt_val = math.sqrt(abs(d))\n",
    "    if d > 0:\n",
    "        print(\"Roots are real and different \")\n",
    "        print((-b + sqrt_val)/(2 * a))\n",
    "        print((-b - sqrt_val)/(2 * a))\n",
    "    elif d == 0:\n",
    "        print(\"Roots are real and same\")\n",
    "        print(-b / (2*a))\n",
    "    else:  # d<0\n",
    "        print(\"Roots are complex\")\n",
    "        print(- b / (2*a), \" + i\", sqrt_val)\n",
    "        print(- b / (2*a), \" - i\", sqrt_val)\n",
    " \n",
    " \n",
    "# Driver Program\n",
    "a = 1\n",
    "b = 4\n",
    "c = 4\n",
    " \n",
    "# Function call\n",
    "findroots(a, b, c)"
   ]
  },
  {
   "cell_type": "code",
   "execution_count": 8,
   "id": "cd743f9d",
   "metadata": {},
   "outputs": [
    {
     "name": "stdout",
     "output_type": "stream",
     "text": [
      "Enter a number from 1 to 7: 3\n",
      "3 is Tuesday\n"
     ]
    }
   ],
   "source": [
    "#Implement a program to determine the day of the week based on a user-provided number (1 for Monday, 2 for Tuesday, etc.).\n",
    "\n",
    "day = int(input(\"Enter a number from 1 to 7: \"))\n",
    "\n",
    "if day == 1:\n",
    "    print(day, \"is Sunday\")\n",
    "elif day == 2:\n",
    "    print(day, \"is Monday\")\n",
    "elif day == 3:\n",
    "    print(day, \"is Tuesday\")\n",
    "elif day == 4:\n",
    "    print(day, \"is Wednesday\")\n",
    "elif day == 5:\n",
    "    print(day, \"is Thursday\")\n",
    "elif day == 6:\n",
    "    print(day, \"is Friday\")\n",
    "elif day == 7:\n",
    "    print(day, \"is Saturday\")\n",
    "else:\n",
    "    print(\"Wrong input! Please enter a number from 1 to 7.\")"
   ]
  },
  {
   "cell_type": "code",
   "execution_count": 10,
   "id": "7b73aba6",
   "metadata": {},
   "outputs": [
    {
     "name": "stdout",
     "output_type": "stream",
     "text": [
      "Enter the Year you need to check:  2026\n",
      "The given Year '2026' is Leap Year\n"
     ]
    }
   ],
   "source": [
    "# create a program that determines if a year is a leap year and also if it is evenly divisible by 400.\n",
    "\n",
    "year = int(input(\"Enter the Year you need to check:  \"))\n",
    "if year%4==0 or year%100 == 0 or year%400==0:\n",
    "    print(f\"The given Year '{year}' is Leap Year\")\n",
    "else:\n",
    "    print(f\"The given Year '{year}' is Leap Year\")"
   ]
  },
  {
   "cell_type": "code",
   "execution_count": 12,
   "id": "8923a0de",
   "metadata": {},
   "outputs": [
    {
     "name": "stdout",
     "output_type": "stream",
     "text": [
      "Enter a value: 9\n",
      "the num is prime\n"
     ]
    }
   ],
   "source": [
    "#Develop a program that checks if a given number is prime or not using nested if-else statements.\n",
    "num = int(input(\"Enter a value: \"))\n",
    "\n",
    "if num%2==0:\n",
    "    print(\"The Given num is not prime\")\n",
    "else:\n",
    "    print(\"the num is prime\")"
   ]
  },
  {
   "cell_type": "code",
   "execution_count": 1,
   "id": "c37a17cc",
   "metadata": {},
   "outputs": [],
   "source": [
    "## Elif Statements: ##"
   ]
  },
  {
   "cell_type": "code",
   "execution_count": 6,
   "id": "c89cbce3",
   "metadata": {},
   "outputs": [
    {
     "name": "stdout",
     "output_type": "stream",
     "text": [
      "write a score to check grade: 87\n",
      "Your Garde as per the '87' is A\n"
     ]
    }
   ],
   "source": [
    "#Write a Python program to assign grades based on different ranges of scores using elif statement\n",
    "score = int(input(\"write a score to check grade: \"))\n",
    "if score >85:\n",
    "    print(f\"Your Garde as per the '{score}' is A\")  \n",
    "elif score <= 85 and score >= 75:\n",
    "    print(f\"Your Garde as per the '{score}' is B+\")\n",
    "elif score <=74 and score>= 60:\n",
    "    print(f\"Your Garde as per the '{score}' is B\")\n",
    "elif score <=59 and score>= 35:\n",
    "    print(f\"Your Garde as per the '{score}' is C\")\n",
    "else:\n",
    "    print(f\"Your Garde as per the '{score}' is FAIL\")"
   ]
  },
  {
   "cell_type": "code",
   "execution_count": 7,
   "id": "b5daa994",
   "metadata": {},
   "outputs": [
    {
     "name": "stdout",
     "output_type": "stream",
     "text": [
      "Enter the value of angle1: 40\n",
      "Enter the value of angle2: 35\n",
      "Enter the value of angle3: 10\n",
      "it is obtuse angle\n"
     ]
    }
   ],
   "source": [
    "#Implement a program to determine the type of a triangle based on its angles\n",
    "ang1 = int(input(\"Enter the value of angle1: \"))\n",
    "ang2 = int(input(\"Enter the value of angle2: \"))\n",
    "ang3 = int(input(\"Enter the value of angle3: \"))\n",
    "\n",
    "if ang1 == ang2+ang3 or ang2 == ang1+ang3 or ang3 == ang2+ang1:\n",
    "    print(\"The angle is Right angle Triangle\")\n",
    "    \n",
    "elif ang1 > ang3+ang2 or ang2 > ang3+ang1 or ang3 > ang1+ang2:\n",
    "    print(\"The angle is acute angle Triangle\")\n",
    "    \n",
    "else:\n",
    "    print(\"it is obtuse angle\")"
   ]
  },
  {
   "cell_type": "code",
   "execution_count": 13,
   "id": "be799b7c",
   "metadata": {},
   "outputs": [
    {
     "name": "stdout",
     "output_type": "stream",
     "text": [
      "Provide yur height in mtrs:  1.80\n",
      "Provide your weight in Kg: 85\n",
      "overweight\n"
     ]
    }
   ],
   "source": [
    "#Develop a program to categorize a given person's BMI into underweight, normal, overweight, or obese using elif statements\n",
    "\n",
    "def BMI(height,weight):\n",
    "    bmi = weight/(height**2)\n",
    "    return bmi\n",
    "height = float(input(\"Provide yur height in mtrs:  \"))\n",
    "weight = float(input(\"Provide your weight in Kg: \"))\n",
    "#calling the function\n",
    "bmi = BMI(height, weight)\n",
    "\n",
    "if (bmi < 18.5):\n",
    "    print(\"Underweight\")\n",
    "    \n",
    "elif ( bmi >= 18.5 and bmi < 24.9): \n",
    "    print(\"Healthy\") \n",
    "  \n",
    "elif ( bmi >= 24.9 and bmi < 30): \n",
    "    print(\"overweight\") \n",
    "  \n",
    "elif ( bmi >=30): \n",
    "    print(\"Suffering from Obesity\") "
   ]
  },
  {
   "cell_type": "code",
   "execution_count": 12,
   "id": "adb4da2b",
   "metadata": {},
   "outputs": [
    {
     "name": "stdout",
     "output_type": "stream",
     "text": [
      "Enter a number to determine:  -10\n",
      "The num is negative\n"
     ]
    }
   ],
   "source": [
    "#Create a program that determines whether a given number is positive, negative, or zero using elif statements.\n",
    "\n",
    "num_determine = int(input(\"Enter a number to determine:  \"))\n",
    "if num_determine < 0 :\n",
    "    print(\"The num is negative\")\n",
    "elif num_determine == 0:\n",
    "    print(\"The num is Zero\")\n",
    "else:\n",
    "    print(\"The num is positive\")\n",
    "    \n"
   ]
  },
  {
   "cell_type": "code",
   "execution_count": 30,
   "id": "08d9afcd",
   "metadata": {},
   "outputs": [
    {
     "name": "stdout",
     "output_type": "stream",
     "text": [
      "Enter a character: hH\n",
      "hH is a lower case letter.\n"
     ]
    }
   ],
   "source": [
    "character = input(\"Enter a character: \")\n",
    "\n",
    "lowerLetters = \"abcdefghijklmnopqrstuvwxyz\"\n",
    "upperLetters = \"ABCDEFGHIJKLMNOPQRSTUVWXYZ\"\n",
    "digits = \"0123456789\"\n",
    "\n",
    "if (ch in character for ch in lowerLetters):\n",
    "    print(character, \"is a lower case letter.\")\n",
    "elif (ch in character for ch in upperLetters):\n",
    "    print(character, \"is an upper case letter.\")\n",
    "elif all(ch in character for ch in digits):\n",
    "    print(character, \"is a digit.\")\n",
    "else:\n",
    "    print(character, \"is a non-alphanumeric character.\")"
   ]
  },
  {
   "cell_type": "code",
   "execution_count": 34,
   "id": "64ba1654",
   "metadata": {},
   "outputs": [
    {
     "name": "stdout",
     "output_type": "stream",
     "text": [
      "Enter the total cost: 200\n",
      "The Discount of 10% is given 180.0\n"
     ]
    }
   ],
   "source": [
    "#Implement a program to calculate the discounted price based on different purchase amounts using elif statements.\n",
    "\n",
    "total_cost = int(input(\"Enter the total cost: \"))\n",
    "if total_cost>=500:\n",
    "    total_cost *=0.85\n",
    "    print(f\"The Discount of 15% is given {total_cost}\")\n",
    "elif total_cost>100: \n",
    "    total_cost *= 0.9\n",
    "    print(f\"The Discount of 10% is given {total_cost}\")\n",
    "\n",
    "elif total_cost>=50:\n",
    "    total_cost *= 0.95\n",
    "    print(\"You have won a discount by 5 percent\")\n",
    "\n",
    "else:\n",
    "    print ('you total cost is not in the range of discount!')\n",
    "    #print ('Now the total cost is ', total_cost)"
   ]
  },
  {
   "cell_type": "code",
   "execution_count": 37,
   "id": "c1484210",
   "metadata": {},
   "outputs": [
    {
     "name": "stdout",
     "output_type": "stream",
     "text": [
      "Enter the Unit Consumed: 300\n",
      "Charges would be 4500\n"
     ]
    }
   ],
   "source": [
    "# Develop a program to calculate the electricity bill based on different consumption slabs using elif statements\n",
    "unit_consume = int(input(\"Enter the Unit Consumed: \"))\n",
    "if unit_consume >= 150:\n",
    "    unit_consume*=15\n",
    "    print(f\"Charges would be {unit_consume}\")\n",
    "elif unit_consume < 140:\n",
    "    unit_consume*=20\n",
    "    print(f\"Charges would be {unit_consume}\")\n",
    "elif unit_consume < 90:\n",
    "    unit_consume*=30\n",
    "    print(f\"Charges would be {unit_consume}\")\n",
    "else:\n",
    "    print(\"The discount not in range\")"
   ]
  },
  {
   "cell_type": "code",
   "execution_count": null,
   "id": "70167c56",
   "metadata": {},
   "outputs": [],
   "source": [
    "#Create a program to determine the type of quadrilateral based on its angles and sides using elif statements"
   ]
  },
  {
   "cell_type": "code",
   "execution_count": 2,
   "id": "38afac3c",
   "metadata": {},
   "outputs": [
    {
     "name": "stdout",
     "output_type": "stream",
     "text": [
      "Enter the month: Jan\n",
      "Winter\n"
     ]
    }
   ],
   "source": [
    "#Write a Python script to determine the season based on a user-provided month using elif statements\n",
    "\n",
    "user = input(\"Enter the month: \")\n",
    "\n",
    "if user in ('Dec','Jan','Feb'):\n",
    "    print(\"Winter\")\n",
    "elif user in ('March','April','May','June'):\n",
    "    print(\"summer\")\n",
    "else:\n",
    "    print(\"Spring\")"
   ]
  },
  {
   "cell_type": "code",
   "execution_count": null,
   "id": "351da86a",
   "metadata": {},
   "outputs": [],
   "source": [
    "#Implement a program to determine the type of a year (leap or common) and month (30 or 31 days) using elif statements.\n",
    "\n",
    "def cal(month):\n",
    "    if month in ['January', 'march','may','july','august','oct','dec']:\n",
    "       print (\"this month has 31 days\")\n",
    "    elif month in ['april','june','sept','nov']:\n",
    "       print (\"this month has 30 days\")\n",
    "    elif month == 'feb' and leap(year)== True:\n",
    "       print (\"this month has 29 days\")\n",
    "    elif month == 'feb' and leap(year) == False:\n",
    "        print (\"this month has 28 days\")\n",
    "    else:\n",
    "        print (\"invalid input\")   \n",
    "\n",
    "\n",
    "def leap(year):\n",
    "    if (year % 4== 0) or (year % 400 == 0):\n",
    "       print (\"its a leap year!\")\n",
    "    else: \n",
    "       print (\"is not a leap year\")\n",
    "\n",
    "year = int(input('type a year: '))\n",
    "print ('you typed in :' , year)\n",
    "month = str(input('type a month: '))\n",
    "print ('you typed in :', month)"
   ]
  },
  {
   "cell_type": "code",
   "execution_count": 1,
   "id": "b894cad3",
   "metadata": {},
   "outputs": [],
   "source": [
    "#### BASIC LEVEL ####"
   ]
  },
  {
   "cell_type": "code",
   "execution_count": 5,
   "id": "6262816a",
   "metadata": {},
   "outputs": [
    {
     "name": "stdout",
     "output_type": "stream",
     "text": [
      "Enter the num: 0\n",
      "The given num 0 is Zero\n"
     ]
    }
   ],
   "source": [
    "#Write a Python program that checks if a given number is positive, negative, or zero.\n",
    "user = int(input(\"Enter the num: \"))\n",
    "if user == 0 :\n",
    "    print(f\"The given num {user} is Zero\")\n",
    "elif user >0:\n",
    "    print(f\"The given num {user} is Positive\")\n",
    "elif user < 0:\n",
    "    print(f\"The given num {user} is Negative\")\n",
    "    \n",
    "else:\n",
    "    print(\"Unidentified\")"
   ]
  },
  {
   "cell_type": "code",
   "execution_count": 6,
   "id": "b49e6f7c",
   "metadata": {},
   "outputs": [
    {
     "name": "stdout",
     "output_type": "stream",
     "text": [
      "Enter Your Age: 20\n",
      "You are Eligible to vote\n"
     ]
    }
   ],
   "source": [
    "#Create a program to determine if a person is eligible to vote based on their age.\n",
    "age = int(input(\"Enter Your Age: \"))\n",
    "\n",
    "if age > 18:\n",
    "    print(\"You are Eligible to vote\")\n",
    "else:\n",
    "    print(\"You are not Eligible to vote\")"
   ]
  },
  {
   "cell_type": "code",
   "execution_count": 13,
   "id": "c96dc093",
   "metadata": {},
   "outputs": [
    {
     "name": "stdout",
     "output_type": "stream",
     "text": [
      "2000 is greater than 400\n"
     ]
    }
   ],
   "source": [
    "#Write a program to find the maximum of two given numbers using conditional statements.\n",
    "def maximum(a,b):\n",
    "    if a > b:\n",
    "        print(f\"{a} is greater than {b}\")\n",
    "    else:\n",
    "        print(\"b is greater\")\n",
    "              \n",
    "a=2000\n",
    "b=400\n",
    "maximum(a,b)"
   ]
  },
  {
   "cell_type": "code",
   "execution_count": 18,
   "id": "7aac0a15",
   "metadata": {},
   "outputs": [
    {
     "name": "stdout",
     "output_type": "stream",
     "text": [
      "Enter the marks of student: 77\n",
      "Fail\n"
     ]
    }
   ],
   "source": [
    "#Develop a program that calculates the grade of a student based on their exam score\n",
    "\n",
    "marks= int(input(\"Enter the marks of student: \"))\n",
    "\n",
    "if marks<=80 and marks >=100:\n",
    "    print(f\"Marks obtained {marks} with A Grade\")\n",
    "elif marks<=60 and marks >=79:\n",
    "    print(f\"Marks obtained {marks} with B Grade\")\n",
    "elif marks<=35 and marks >=59:\n",
    "    print(f\"Marks obtained {marks} with C Grade\")\n",
    "else:\n",
    "    print(\"Fail\")"
   ]
  },
  {
   "cell_type": "code",
   "execution_count": 22,
   "id": "dcd39382",
   "metadata": {},
   "outputs": [
    {
     "name": "stdout",
     "output_type": "stream",
     "text": [
      "Enter a year: 2021\n",
      "It is not a leap year\n"
     ]
    }
   ],
   "source": [
    "#Create a program that checks if a year is a leap year or not\n",
    "\n",
    "year = int(input(\"Enter a year: \"))\n",
    "if (year%4==0 or year%100==0 or year%400==0):\n",
    "    print(\"The Year is Leap Year\")\n",
    "    \n",
    "else:\n",
    "    print(\"It is not a leap year\")"
   ]
  },
  {
   "cell_type": "code",
   "execution_count": 2,
   "id": "2498a2de",
   "metadata": {},
   "outputs": [
    {
     "name": "stdout",
     "output_type": "stream",
     "text": [
      "Current Items in Cart:\n",
      "Papaya - 100\n",
      "Guava - 200\n",
      "Orange - 150\n",
      "Total Quantity: 450\n",
      "\n",
      "Updated Items in Cart after removing Orange:\n",
      "Papaya - 100\n",
      "Guava - 200\n",
      "Total Quantity: 300\n"
     ]
    }
   ],
   "source": [
    "#Create a program to calculate the total cost of a shopping cart based on discounts\n",
    "class ShoppingCart:\n",
    "#initializing with empty list\n",
    "    def __init__(self):\n",
    "        self.items = []\n",
    "        \n",
    "    #add item with name and quantity in shopping cart\n",
    "    def add_items(self,item_name,qty):\n",
    "        item = (item_name,qty)\n",
    "        self.items.append(item)\n",
    "    #remove item with specific name from cart\n",
    "    def remove_items(self,item_name):\n",
    "        for item in self.items:\n",
    "            if item[0] == item_name:\n",
    "                self.items.remove(item)\n",
    "                break\n",
    "                \n",
    "        # Calculate and return the total quantity of items in the shopping cart\n",
    "    def calculate_total(self):\n",
    "        total = 0\n",
    "        for item in self.items:\n",
    "            total += item[1]\n",
    "        return total\n",
    "\n",
    "# Example usage\n",
    "# Create an instance of the ShoppingCart class\n",
    "cart = ShoppingCart()\n",
    "\n",
    "# Add items to the shopping cart\n",
    "cart.add_items(\"Papaya\", 100)\n",
    "cart.add_items(\"Guava\", 200)\n",
    "cart.add_items(\"Orange\", 150)\n",
    "\n",
    "# Display the current items in the cart and calculate the total quantity\n",
    "print(\"Current Items in Cart:\")\n",
    "for item in cart.items:\n",
    "    print(item[0], \"-\", item[1])\n",
    "\n",
    "total_qty = cart.calculate_total()\n",
    "print(\"Total Quantity:\", total_qty)\n",
    "\n",
    "# Remove an item from the cart, display the updated items, and recalculate the total quantity\n",
    "cart.remove_items(\"Orange\")\n",
    "print(\"\\nUpdated Items in Cart after removing Orange:\")\n",
    "for item in cart.items:\n",
    "    print(item[0], \"-\", item[1])\n",
    "\n",
    "total_qty = cart.calculate_total()\n",
    "print(\"Total Quantity:\", total_qty) \n",
    "                "
   ]
  },
  {
   "cell_type": "code",
   "execution_count": 1,
   "id": "89cbea40",
   "metadata": {},
   "outputs": [
    {
     "name": "stdout",
     "output_type": "stream",
     "text": [
      "real and different roots\n",
      "1.0827625302982193\n",
      "-11.082762530298218\n"
     ]
    }
   ],
   "source": [
    "#Write a program that calculates the roots of a quadratic equation .\n",
    "\n",
    "import math\n",
    "\n",
    "#def function\n",
    "def equationroots(a,b,c):\n",
    "    #calcularing discriminant using formula'\n",
    "    dis = b**2-4*a*c\n",
    "    sqrt_val = math.sqrt(abs(dis))\n",
    "    \n",
    "    if dis>0:\n",
    "        print(\"real and different roots\")\n",
    "        print((-b + sqrt_val) / (2*a))\n",
    "        print((-b - sqrt_val) / (2 * a))\n",
    "    \n",
    "    elif dis == 0:\n",
    "        print(\"real and same roots\")\n",
    "        print(-b/(2 * a))\n",
    "        \n",
    "    else:\n",
    "        print(\"complex roots\")\n",
    "        print(-b / (2*a),+i,sqrt_val/(2*a))\n",
    "        print(-b/(2*a),-i,sqrt_val/(2*a))\n",
    "        \n",
    "\n",
    "        \n",
    "a = 1\n",
    "b = 10\n",
    "c = -12\n",
    "\n",
    "if a == 0:\n",
    "    print(\"Input correct quadratic equation\")\n",
    "    \n",
    "else:\n",
    "    equationroots(a,b,c)"
   ]
  },
  {
   "cell_type": "code",
   "execution_count": 4,
   "id": "5228974f",
   "metadata": {},
   "outputs": [
    {
     "name": "stdout",
     "output_type": "stream",
     "text": [
      "Saturday\n"
     ]
    }
   ],
   "source": [
    "#Create a program that determines the day of the week based on the day number (1-7).\n",
    "\n",
    "\n",
    "import calendar\n",
    " \n",
    "def findDay(date):\n",
    "    day, month, year = (int(i) for i in date.split(' '))    \n",
    "    dayNumber = calendar.weekday(year, month, day)\n",
    "     \n",
    "    # Modify days list to start with Sunday as 0\n",
    "    days = [\"Sunday\", \"Monday\", \"Tuesday\", \"Wednesday\", \"Thursday\", \"Friday\", \"Saturday\"]\n",
    "     \n",
    "    return days[dayNumber]\n",
    " \n",
    "# Driver program\n",
    "date = '03 02 2019'\n",
    "print(findDay(date))"
   ]
  },
  {
   "cell_type": "code",
   "execution_count": 8,
   "id": "9d77c4ff",
   "metadata": {},
   "outputs": [
    {
     "name": "stdout",
     "output_type": "stream",
     "text": [
      "Insert your Card\n",
      "Enter Your Pin: 1234\n",
      "Enter 1 for Balance Inquiry\n",
      "Enter 2 for Money Withdrawal\n",
      "Enter 3 for Money Deposit\n",
      "Select an option (1/2/3): 2\n",
      "Enter the withdrawal amount: 500000\n",
      "Transaction Successful\n",
      "The amount left 500000\n",
      "Thank You, Visit Again\n"
     ]
    }
   ],
   "source": [
    "#Create a program that simulates a basic ATM transaction menu\n",
    "balance = 1000000\n",
    "def check_balance():\n",
    "    print(\"Your Current Balance is: \",balance,\"Rupees only\")\n",
    "    \n",
    "def deposit():\n",
    "    global balance\n",
    "    damount =  int(input(\"Enter Your Deposit amount: \"))\n",
    "    Y = balance + damount\n",
    "    print(f\"Successfully Depositedcv \")\n",
    "    \n",
    "def withdraw():\n",
    "    global balance\n",
    "    amount =  int(input(\"Enter the withdrawal amount: \"))\n",
    "    if amount <= balance:\n",
    "        x = balance - amount\n",
    "        print(\"Transaction Successful\")\n",
    "        print(f\"The amount left {x}\")\n",
    "    else:\n",
    "        print(\"Insufficient Balance\")\n",
    "        \n",
    "def main():\n",
    "    pin = 1234\n",
    "    #balance = 1000000\n",
    "    \n",
    "    print('Insert your Card')\n",
    "    confirm_pin = int(input(\"Enter Your Pin: \"))\n",
    "\n",
    "    if pin == confirm_pin:\n",
    "        print(\"Enter 1 for Balance Inquiry\")\n",
    "        print(\"Enter 2 for Money Withdrawal\")\n",
    "        print(\"Enter 3 for Money Deposit\")\n",
    "        \n",
    "        option = int(input(\"Select an option (1/2/3): \"))\n",
    "\n",
    "        if option == 1:\n",
    "            check_balance()\n",
    "        elif option == 2:\n",
    "            withdraw()\n",
    "        elif option == 3:\n",
    "            deposit()\n",
    "        else:\n",
    "            print(\"Invalid Option\")\n",
    "    else:\n",
    "        print(\"Invalid PIN\")\n",
    "\n",
    "    print(\"Thank You, Visit Again\")\n",
    "\n",
    "\n",
    "if __name__ == \"__main__\":\n",
    "    main()"
   ]
  },
  {
   "cell_type": "code",
   "execution_count": 7,
   "id": "3d464c39",
   "metadata": {},
   "outputs": [
    {
     "name": "stdout",
     "output_type": "stream",
     "text": [
      "The given String ABCDCBA is Palindrome\n"
     ]
    }
   ],
   "source": [
    "#Build a program that checks if a given string is a palindrome or not\n",
    "def ispalindrome(s):\n",
    "    return s == s[::-1]\n",
    "\n",
    "s= 'ABCDCBA'\n",
    "ans =  ispalindrome(s)\n",
    "\n",
    "if ans:\n",
    "    print(f'The given String {s} is Palindrome')\n",
    "else:\n",
    "    print('No')\n"
   ]
  },
  {
   "cell_type": "code",
   "execution_count": 15,
   "id": "e58e3269",
   "metadata": {},
   "outputs": [
    {
     "data": {
      "text/plain": [
       "37.0"
      ]
     },
     "execution_count": 15,
     "metadata": {},
     "output_type": "execute_result"
    }
   ],
   "source": [
    "# Write a program that calculates the average of a list of numbers, excluding the smallest and largest values\n",
    "\n",
    "value = [10,20,35,40,60,90,30]\n",
    "value.sort()\n",
    "trimmed = value[1:-1]\n",
    "#trimmed\n",
    "average_list = sum(trimmed)/len(trimmed)\n",
    "average_list\n",
    "    \n",
    "\n",
    "\n",
    "#(df['Value'].sum() - df['Value'].min() - df['Value'].max())/(len(df)-2)"
   ]
  },
  {
   "cell_type": "code",
   "execution_count": 12,
   "id": "67ab5c00",
   "metadata": {},
   "outputs": [
    {
     "data": {
      "text/plain": [
       "[10, 20, 30, 35, 40, 60, 90]"
      ]
     },
     "execution_count": 12,
     "metadata": {},
     "output_type": "execute_result"
    }
   ],
   "source": [
    "#Create a program that calculates the income tax based on the user's income and tax brackets\n",
    "\n",
    "def calculate(amount,percent):\n",
    "    return (amount*percent)/100\n",
    "\n",
    "def cal_income_tax(total_income : float) -> float:\n",
    "    \n",
    "    if total_income <= 250000:\n",
    "        return 0\n",
    "    elif total_income <= 500000:\n",
    "        return"
   ]
  },
  {
   "cell_type": "code",
   "execution_count": 1,
   "id": "0473fbb6",
   "metadata": {},
   "outputs": [
    {
     "name": "stdout",
     "output_type": "stream",
     "text": [
      "Enter a choice (rock , paper, scissors): rock\n",
      "\n",
      "You choose rock, computer choose rock.\n",
      "\n",
      "Both Players selected rock and its Tie!\n",
      "Play again? (y/n): y\n",
      "Enter a choice (rock , paper, scissors): paper\n",
      "\n",
      "You choose paper, computer choose scissor.\n",
      "\n",
      "Scissors cuts paper! You lose.\n",
      "Play again? (y/n): y\n",
      "Enter a choice (rock , paper, scissors): paper\n",
      "\n",
      "You choose paper, computer choose scissor.\n",
      "\n",
      "Scissors cuts paper! You lose.\n",
      "Play again? (y/n): n\n"
     ]
    }
   ],
   "source": [
    "#Write a program that simulates a rock-paper-scissors game against the computer\n",
    "#if we want to play in loop \n",
    "import random  \n",
    "while True:\n",
    "    \n",
    "    user_action = input(\"Enter a choice (rock , paper, scissors): \")\n",
    "    possible_actions = ['rock','paper','scissor']\n",
    "    computer_action = random.choice(possible_actions)\n",
    "\n",
    "    print(f\"\\nYou choose {user_action}, computer choose {computer_action}.\\n\")\n",
    "\n",
    "    if user_action == computer_action:\n",
    "        print(f\"Both Players selected {user_action} and its Tie!\")\n",
    "    elif user_action == 'rock':\n",
    "        if computer_action == 'scissors':\n",
    "            print(\" Yeah!! Rock smashes Scissors\")\n",
    "        else:\n",
    "            print(\"paper covers rock You Lose\")\n",
    "    elif user_action == \"paper\":\n",
    "        if computer_action == \"rock\":\n",
    "            print(\"Paper covers rock! You win!\")\n",
    "        else:\n",
    "            print(\"Scissors cuts paper! You lose.\")\n",
    "    elif user_action == \"scissors\":\n",
    "        if computer_action == \"paper\":\n",
    "            print(\"Scissors cuts paper! You win!\")\n",
    "        else:\n",
    "            print(\"Rock smashes scissors! You lose.\")\n",
    "        \n",
    "    play_again = input(\"Play again? (y/n): \")\n",
    "    if play_again.lower() != \"y\":\n",
    "        break"
   ]
  },
  {
   "cell_type": "code",
   "execution_count": 1,
   "id": "9787ffa5",
   "metadata": {},
   "outputs": [
    {
     "name": "stdout",
     "output_type": "stream",
     "text": [
      "Enter the prefered length: 12\n",
      "Include the lower case letters? (y/n): Y\n",
      "Include the lower case letters? (y/n): y\n",
      "Include the lower case letters? (y/n): y\n",
      "Include the lower case letters? (y/n): y\n",
      "Generated password: \\Yg\\*YoA%98`\n"
     ]
    }
   ],
   "source": [
    "#Develop a program that generates a random password based on user preferences (length, complexity).\n",
    "import random\n",
    "import string \n",
    "\n",
    "def generate_password(length,include_lowercase, include_uppercase,include_digits, include_symbols):\n",
    "    \"\"\"Generate a random Password based on user preferences.\"\"\"\n",
    "    characters = []\n",
    "    if include_lowercase:\n",
    "        characters += string.ascii_lowercase\n",
    "    if include_uppercase:\n",
    "        characters += string.ascii_uppercase\n",
    "    if include_digits:\n",
    "        characters += string.digits\n",
    "    if include_symbols:\n",
    "        characters += string.punctuation \n",
    "        \n",
    "    if not characters:\n",
    "        raise ValueError(\"At least one character type must be selected.\")\n",
    "        \n",
    "    password = \"\".join(random.choice(characters) for _ in range(length))\n",
    "    return password\n",
    "\n",
    "def main():\n",
    "    \"\"\"Prompts the user for password preferences and generate the password.\"\"\"\n",
    "    \n",
    "    length = int(input(\"Enter the prefered length: \"))\n",
    "    include_lowercase = input(\"Include the lower case letters? (y/n): \")\n",
    "    include_uppercase = input(\"Include the Upper case letters? (y/n): \")\n",
    "    include_digits = input(\"Include the Digits? (y/n): \")\n",
    "    include_symbols = input(\"Include Symbols? (y/n): \")\n",
    "    \n",
    "    password = generate_password(length, include_lowercase, include_uppercase, include_digits, include_symbols)\n",
    "\n",
    "    print(\"Generated password:\", password)\n",
    "\n",
    "if __name__ == \"__main__\":\n",
    "    main()\n",
    "    \n"
   ]
  },
  {
   "cell_type": "code",
   "execution_count": 3,
   "id": "8bd09fb0",
   "metadata": {},
   "outputs": [
    {
     "name": "stdout",
     "output_type": "stream",
     "text": [
      "You are in a dark room. There is a door to your north.\n",
      "There is a door to your north.\n",
      "What do you want to do? north\n",
      "You are in room 1. There is a door to your east and south.\n",
      "There is a door to your east.\n",
      "There is a door to your south.\n",
      "What do you want to do? south\n",
      "You are in a dark room. There is a door to your north.\n",
      "There is a door to your north.\n",
      "What do you want to do? north\n",
      "You are in room 1. There is a door to your east and south.\n",
      "There is a door to your east.\n",
      "There is a door to your south.\n",
      "What do you want to do? east\n",
      "You are in room 2. There is a door to your west and south.\n",
      "There is a door to your south.\n",
      "There is a door to your west.\n",
      "What do you want to do? west\n",
      "You are in room 1. There is a door to your east and south.\n",
      "There is a door to your east.\n",
      "There is a door to your south.\n",
      "What do you want to do? east\n",
      "You are in room 2. There is a door to your west and south.\n",
      "There is a door to your south.\n",
      "There is a door to your west.\n",
      "What do you want to do? south\n",
      "You are in room 3. You found the treasure! Congratulations!\n"
     ]
    }
   ],
   "source": [
    "#Create a program that implements a simple text-based adventure game with branching scenarios\n",
    "rooms = {\n",
    "    'start': {\n",
    "        'description': 'You are in a dark room. There is a door to your north.',\n",
    "        'north': 'room1'\n",
    "    },\n",
    "    'room1': {\n",
    "        'description': 'You are in room 1. There is a door to your east and south.',\n",
    "        'east': 'room2',\n",
    "        'south': 'start'\n",
    "    },\n",
    "    'room2': {\n",
    "        'description': 'You are in room 2. There is a door to your west and south.',\n",
    "        'west': 'room1',\n",
    "        'south': 'room3'\n",
    "    },\n",
    "    'room3': {\n",
    "        'description': 'You are in room 3. You found the treasure! Congratulations!',\n",
    "        'end': True\n",
    "    }\n",
    "}\n",
    "\n",
    "def show_room(room):\n",
    "    print(room['description'])\n",
    "    if 'north' in room:\n",
    "        print('There is a door to your north.')\n",
    "    if 'east' in room:\n",
    "        print('There is a door to your east.')\n",
    "    if 'south' in room:\n",
    "        print('There is a door to your south.')\n",
    "    if 'west' in room:\n",
    "        print('There is a door to your west.')\n",
    "\n",
    "def get_action(room):\n",
    "    while True:\n",
    "        action = input('What do you want to do? ').lower().strip()\n",
    "\n",
    "        if action == 'north' and 'north' in room:\n",
    "            return room['north']\n",
    "        elif action == 'east' and 'east' in room:\n",
    "            return room['east']\n",
    "        elif action == 'south' and 'south' in room:\n",
    "            return room['south']\n",
    "        elif action == 'west' and 'west' in room:\n",
    "            return room['west']\n",
    "        else:\n",
    "            print('Invalid action. Try again.')\n",
    "            \n",
    "current_room = rooms['start']\n",
    "\n",
    "while 'end' not in current_room:\n",
    "    show_room(current_room)\n",
    "    next_room = get_action(current_room)\n",
    "    current_room = rooms[next_room]\n",
    "\n",
    "print(current_room['description'])"
   ]
  },
  {
   "cell_type": "code",
   "execution_count": 7,
   "id": "55323dfa",
   "metadata": {},
   "outputs": [
    {
     "name": "stdout",
     "output_type": "stream",
     "text": [
      "Wellcome to quiz game !!\n",
      "NOTE: if your spelling is incorrect then it is considered as wrong answer\n",
      "Do you want to Play? (yes/no) : yes\n",
      "\n",
      "1. what does CPU stand for? central processing unit\n",
      "correct you scored 1 point\n",
      "\n",
      "2. what does GPU stand for? graphicals processing unit\n",
      "Incorrect!\n",
      "current answer is --> graphics processing unit\n",
      "\n",
      "3. what does RAM stand for? read only memory\n",
      "Incorrect!\n",
      "current answer is --> random access memory\n",
      "\n",
      "4. what does PSU stand for? public sector unit\n",
      "Incorrect!\n",
      "current answer is --> power supply unit\n",
      "\n",
      "5. what does ROM stand for? read only memory\n",
      "correct! you got 1 point\n"
     ]
    }
   ],
   "source": [
    "# Write a program that simulates a basic quiz game with multiple-choice questions and scoring\n",
    "print(\"Wellcome to quiz game !!\")\n",
    "print('NOTE: if your spelling is incorrect then it is considered as wrong answer')\n",
    "\n",
    "score = 0\n",
    "question_no = 0\n",
    "playing =  input(\"Do you want to Play? (yes/no) : \").lower()\n",
    "\n",
    "if playing == 'yes':\n",
    "    question_no +=1\n",
    "    ques = input(f'\\n{question_no}. what does CPU stand for? ').lower()\n",
    "    if ques == 'central processing unit':\n",
    "        print(\"correct you scored 1 point\")\n",
    "        score += 1\n",
    "    else:\n",
    "        print(\"wrong answer\")\n",
    "        \n",
    "    question_no += 1\n",
    "    ques = input(f'\\n{question_no}. what does GPU stand for? ').lower()\n",
    "    \n",
    "    if ques == 'graphics processing unit':\n",
    "        score +=1\n",
    "        print('correct! you got 1 point')\n",
    "        \n",
    "    else:\n",
    "        print('Incorrect!')\n",
    "        print(f'current answer is --> graphics processing unit')\n",
    "\n",
    "# -----2\n",
    "    question_no += 1\n",
    "    ques = input(f'\\n{question_no}. what does RAM stand for? ').lower()\n",
    "    \n",
    "    if ques == 'random access memory':\n",
    "        score +=1\n",
    "        print('correct! you got 1 point')\n",
    "        \n",
    "    else:\n",
    "        print('Incorrect!')\n",
    "        print(f'current answer is --> random access memory')\n",
    "\n",
    "# -----3\n",
    "    question_no += 1\n",
    "    ques = input(f'\\n{question_no}. what does PSU stand for? ').lower()\n",
    "    \n",
    "    if ques == 'power supply unit':\n",
    "        score +=1\n",
    "        print('correct! you got 1 point')\n",
    "        \n",
    "    else:\n",
    "        print('Incorrect!')\n",
    "        print(f'current answer is --> power supply unit')\n",
    "\n",
    "\n",
    "# -----4\n",
    "    question_no += 1\n",
    "    ques = input(f'\\n{question_no}. what does ROM stand for? ').lower()\n",
    "    \n",
    "    if ques == 'read only memory':\n",
    "        score +=1\n",
    "        print('correct! you got 1 point')\n",
    "        \n",
    "    else:\n",
    "        print('Incorrect!')\n",
    "        print(f'current answer is --> read only memory')\n",
    "        \n",
    "        \n",
    "else:\n",
    "    print('thankyou you are out of a game.')\n",
    "    quit()\n",
    "\n",
    "print(f'\\nnumber of question is {question_no}')\n",
    "print(f'your score is {score}')\n",
    "try:\n",
    "    percentage = (score *100)/question_no\n",
    "except ZeroDivisionError:\n",
    "    print('0% quetions are correct')\n",
    "\n",
    "print(f'{percentage}% questions are correct.')\n"
   ]
  },
  {
   "cell_type": "code",
   "execution_count": 8,
   "id": "2a3647e5",
   "metadata": {},
   "outputs": [
    {
     "name": "stdout",
     "output_type": "stream",
     "text": [
      "Enter a: 20\n",
      "Enter b: 15\n",
      "Enter c: 8\n",
      "8.0 < 15.0 < 20.0\n"
     ]
    }
   ],
   "source": [
    "#Create a program that sorts three numbers in ascending order using conditional statements.\n",
    "a = float(input(\"Enter a: \"))\n",
    "b = float(input(\"Enter b: \"))\n",
    "c = float(input(\"Enter c: \"))\n",
    "\n",
    "if a > b:\n",
    "    a,b = b,a\n",
    "if a > c:\n",
    "    a,c = c,a\n",
    "if b > c:\n",
    "    b,c = c,b\n",
    "    \n",
    "print (a, \"<\", b, \"<\", c)"
   ]
  },
  {
   "cell_type": "code",
   "execution_count": 9,
   "id": "90fc8ce0",
   "metadata": {},
   "outputs": [
    {
     "name": "stdout",
     "output_type": "stream",
     "text": [
      "Equation: ax^2 + bx + c \n",
      "Enter a: 4\n",
      "Enter b: 54\n",
      "Enter c: 41\n",
      "The first root:  -12.92\n",
      "The second root:  -203.08\n"
     ]
    }
   ],
   "source": [
    "#Build a program that determines the roots of a quartic equation using numerical methods.\n",
    "print(\"Equation: ax^2 + bx + c \")\n",
    "a=int(input(\"Enter a: \"))\n",
    "b=int(input(\"Enter b: \"))\n",
    "c=int(input(\"Enter c: \"))\n",
    "d=b**2-4*a*c\n",
    "d1=d**0.5\n",
    "if(d<0):\n",
    "    print(\"The roots are imaginary. \")\n",
    "else:\n",
    "    r1=(-b+d1)/2*a\n",
    "    r2=(-b-d1)/2*a\n",
    "    print(\"The first root: \",round(r1,2))\n",
    "    print(\"The second root: \",round(r2,2))\n",
    "    "
   ]
  },
  {
   "cell_type": "code",
   "execution_count": null,
   "id": "d146b30b",
   "metadata": {},
   "outputs": [],
   "source": []
  }
 ],
 "metadata": {
  "kernelspec": {
   "display_name": "Python 3 (ipykernel)",
   "language": "python",
   "name": "python3"
  },
  "language_info": {
   "codemirror_mode": {
    "name": "ipython",
    "version": 3
   },
   "file_extension": ".py",
   "mimetype": "text/x-python",
   "name": "python",
   "nbconvert_exporter": "python",
   "pygments_lexer": "ipython3",
   "version": "3.9.13"
  }
 },
 "nbformat": 4,
 "nbformat_minor": 5
}
